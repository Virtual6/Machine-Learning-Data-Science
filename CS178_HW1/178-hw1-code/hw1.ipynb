{
 "cells": [
  {
   "cell_type": "code",
   "execution_count": null,
   "metadata": {},
   "outputs": [],
   "source": [
    "from __future__ import division\n",
    "import numpy as np\n",
    "import matplotlib.pyplot as plt\n",
    "import mltools as ml\n",
    "%matplotlib inline"
   ]
  },
  {
   "cell_type": "markdown",
   "metadata": {},
   "source": [
    "# Problem 1 "
   ]
  },
  {
   "cell_type": "code",
   "execution_count": null,
   "metadata": {},
   "outputs": [],
   "source": [
    "iris = np.genfromtxt(\"data/iris.txt\", delimiter = None) #load the text file\n",
    "Y = iris[:, -1]  # target value (iris species) is the last column\n",
    "X = iris[:,0:-1] # features are the other columns\n",
    "X.shape"
   ]
  },
  {
   "cell_type": "markdown",
   "metadata": {},
   "source": [
    "### Problem 1 - Part 1"
   ]
  },
  {
   "cell_type": "code",
   "execution_count": null,
   "metadata": {},
   "outputs": [],
   "source": [
    "# X.shape prints the size of the matrix \n",
    "# here we have 148 rows which are the data points  \n",
    "# and 4 columns which are the features\n",
    "print(\"Number of the data points: \", X.shape[0], \"\\nNumber of the features: \", X.shape[1])"
   ]
  },
  {
   "cell_type": "markdown",
   "metadata": {},
   "source": [
    "### Problem 1 - Part 2"
   ]
  },
  {
   "cell_type": "code",
   "execution_count": null,
   "metadata": {},
   "outputs": [],
   "source": [
    "x1 = X[:,0]  # first columns for all the rows of the features\n",
    "x2 = X[:,1]  # second columns for all the rows of the features\n",
    "x3 = X[:,2]  # third columns for all the rows of the features\n",
    "x4 = X[:,3]  # fourth columns for all the rows of the features"
   ]
  },
  {
   "cell_type": "code",
   "execution_count": null,
   "metadata": {},
   "outputs": [],
   "source": [
    "plt.hist(x1, color = \"r\", edgecolor = \"black\")\n",
    "plt.show()"
   ]
  },
  {
   "cell_type": "code",
   "execution_count": null,
   "metadata": {},
   "outputs": [],
   "source": [
    "plt.hist(x2, color = \"orange\", edgecolor = \"black\")\n",
    "plt.show()"
   ]
  },
  {
   "cell_type": "code",
   "execution_count": null,
   "metadata": {},
   "outputs": [],
   "source": [
    "plt.hist(x3, color = \"grey\", edgecolor = \"black\")\n",
    "plt.show()"
   ]
  },
  {
   "cell_type": "code",
   "execution_count": null,
   "metadata": {},
   "outputs": [],
   "source": [
    "plt.hist(x4, color = \"green\", edgecolor = \"black\")\n",
    "plt.show()"
   ]
  },
  {
   "cell_type": "markdown",
   "metadata": {},
   "source": [
    "### Problem 1 - Part 3"
   ]
  },
  {
   "cell_type": "code",
   "execution_count": null,
   "metadata": {},
   "outputs": [],
   "source": [
    "print(\"Feature one - Mean: \", x1.mean())\n",
    "print(\"Feature one  - Standared diviation: \", x1.std())\n",
    "print(\"Feature Two - Mean: \", x2.mean())\n",
    "print(\"Feature Two  - Standared diviation: \", x2.std())"
   ]
  },
  {
   "cell_type": "markdown",
   "metadata": {},
   "source": [
    "### Problem 1 - Part 4"
   ]
  },
  {
   "cell_type": "markdown",
   "metadata": {},
   "source": [
    "##### Feature (1, 2)"
   ]
  },
  {
   "cell_type": "code",
   "execution_count": null,
   "metadata": {},
   "outputs": [],
   "source": [
    "plt.scatter(X[:,0], X[:,1], c = Y)\n",
    "plt.show()"
   ]
  },
  {
   "cell_type": "markdown",
   "metadata": {},
   "source": [
    "##### Feature (1, 3)"
   ]
  },
  {
   "cell_type": "code",
   "execution_count": null,
   "metadata": {},
   "outputs": [],
   "source": [
    "plt.scatter(X[:,0], X[:,2], c = Y)\n",
    "plt.show()"
   ]
  },
  {
   "cell_type": "markdown",
   "metadata": {},
   "source": [
    "##### Feature (1, 4)"
   ]
  },
  {
   "cell_type": "code",
   "execution_count": null,
   "metadata": {},
   "outputs": [],
   "source": [
    "plt.scatter(X[:,0], X[:,1], c = Y)\n",
    "plt.show()"
   ]
  },
  {
   "cell_type": "markdown",
   "metadata": {},
   "source": [
    "# Problem 2"
   ]
  },
  {
   "cell_type": "code",
   "execution_count": null,
   "metadata": {},
   "outputs": [],
   "source": [
    "np.random.seed(0) \n",
    "iris = np.genfromtxt(\"data/iris.txt\",delimiter=None)\n",
    "np.random.seed(0) \n",
    "Y = iris[:, -1]\n",
    "X = iris[:, 0:-1]\n",
    "X, Y = ml.shuffleData(X, Y)   # Shuffle the data\n",
    "Xtr, Xva, Ytr, Yva = ml.splitData(X, Y, 0.75) #split the data into 75/25 train validation"
   ]
  },
  {
   "cell_type": "markdown",
   "metadata": {},
   "source": [
    "### Problem 2 - Part 1"
   ]
  },
  {
   "cell_type": "code",
   "execution_count": null,
   "metadata": {},
   "outputs": [],
   "source": [
    "knn = ml.knn.knnClassify() # create the object and train it\n",
    "K = [1, 5, 10, 50]\n",
    "knn.train(Xtr[:, 0:2], Ytr, K[0])\n",
    "YvaHat = knn.predict(Xva[:, :2])\n",
    "ml.plotClassify2D(knn, Xtr[:, :2], Ytr)"
   ]
  },
  {
   "cell_type": "code",
   "execution_count": null,
   "metadata": {},
   "outputs": [],
   "source": [
    "knn = ml.knn.knnClassify() # create the object and train it\n",
    "knn.train(Xtr[:, :2], Ytr, K[1])\n",
    "YvaHat = knn.predict(Xva[:, :2])\n",
    "ml.plotClassify2D(knn, Xtr[:, :2], Ytr)"
   ]
  },
  {
   "cell_type": "code",
   "execution_count": null,
   "metadata": {},
   "outputs": [],
   "source": [
    "knn = ml.knn.knnClassify() # create the object and train it\n",
    "knn.train(Xtr[:, :2], Ytr, K[2])\n",
    "YvaHat = knn.predict(Xva[:, :2])\n",
    "ml.plotClassify2D(knn, Xtr[:, :2], Ytr)"
   ]
  },
  {
   "cell_type": "code",
   "execution_count": null,
   "metadata": {},
   "outputs": [],
   "source": [
    "knn = ml.knn.knnClassify() # create the object and train it\n",
    "knn.train(Xtr[:, :2], Ytr, K[3])\n",
    "YvaHat = knn.predict(Xva[:, :2])\n",
    "ml.plotClassify2D(knn, Xtr[:, :2], Ytr)"
   ]
  },
  {
   "cell_type": "markdown",
   "metadata": {},
   "source": [
    "### Problem 2 - Part 2"
   ]
  },
  {
   "cell_type": "code",
   "execution_count": null,
   "metadata": {},
   "outputs": [],
   "source": [
    "K = [1, 2, 5, 10, 100, 200]\n",
    "errTrain      = [None] * len(K) # A list of size K with None stored in them\n",
    "errValidation = [None] * len(K)\n",
    "for i, k in enumerate(K):\n",
    "    learner = ml.knn.knnClassify(Xtr[:, :2], Ytr, k)\n",
    "    Yhat = learner.predict(Xva[:, :2])\n",
    "    errTrain[i]      = learner.err(Xtr[:, :2], Ytr) # Error in training data\n",
    "    errValidation[i] = learner.err(Xva[:, :2], Yva)    # Error in Validation (Test) data\n",
    "plt.semilogx(K,errTrain, color = \"red\", label = \"Training Set\")\n",
    "plt.semilogx(K,errValidation, color = \"green\", label = \"Validation Set\")\n",
    "plt.legend()\n",
    "plt.show()\n",
    "np.argmin(errValidation)"
   ]
  },
  {
   "cell_type": "markdown",
   "metadata": {},
   "source": [
    "### Problem 2 - Part 3"
   ]
  },
  {
   "cell_type": "code",
   "execution_count": null,
   "metadata": {},
   "outputs": [],
   "source": [
    "K = [1, 2, 5, 10, 100, 200]\n",
    "errTrain      = [None] * len(K) # A list of size K with None stored in them\n",
    "errValidation = [None] * len(K)\n",
    "for i, k in enumerate(K):\n",
    "    learner = ml.knn.knnClassify(Xtr, Ytr, k)\n",
    "    Yhat = learner.predict(Xva)\n",
    "    errTrain[i]      = learner.err(Xtr, Ytr) # Error in training data\n",
    "    errValidation[i] = learner.err(Xva, Yva)    # Error in Validation (Test) data\n",
    "plt.semilogx(K, errTrain, color = \"red\", label = \"Training Set\")\n",
    "plt.semilogx(K, errValidation, color = \"green\", label = \"Validation Set\")\n",
    "plt.legend()\n",
    "plt.show()\n",
    "np.argmin(errValidation)"
   ]
  },
  {
   "cell_type": "markdown",
   "metadata": {},
   "source": [
    "# Problem 3:"
   ]
  },
  {
   "cell_type": "markdown",
   "metadata": {},
   "source": [
    "### Problem 3 - Part 1: "
   ]
  },
  {
   "cell_type": "markdown",
   "metadata": {},
   "source": [
    "##### P(Y = 1) = 4/10\n",
    "##### P(X1 = 1 | Y = 1) = 3/4 \n",
    "##### P(X2 = 1 | Y = 1) = 0 \n",
    "##### P(X3 = 1 | Y = 1) = 3/4 \n",
    "##### P(X4 = 1 | Y = 1) = 2/4 = 1/2 \n",
    "##### P(X5 = 1 | Y = 1) = 1/4\n",
    "##### P(X1 = 1 | Y = 1) = 1/4 \n",
    "##### P(X2 = 1 | Y = 1) = 1 \n",
    "##### P(X3 = 1 | Y = 1) = 1/4 \n",
    "##### P(X4 = 1 | Y = 1) = 2/4 = 1/2 \n",
    "##### P(X5 = 1 | Y = 1) = 3/4\n",
    "##### P(Y = -1) = 6/10\n",
    "##### P(X1 = 1 | Y = -1) = 3/6 = 1/2 \n",
    "##### P(X2 = 1 | Y = -1) = 5/6 \n",
    "##### P(X3 = 1 | Y = -1) = 4/6 = 2/3 \n",
    "##### P(X4 = 1 | Y = -1) = 5/6 \n",
    "##### P(X5 = 1 | Y = -1) = 2/6 = 1/3\n",
    "##### P(X1 = 1 | Y = -1) = 3/6 = 1/2 \n",
    "##### P(X2 = 1 | Y = -1) = 1/6 \n",
    "##### P(X3 = 1 | Y = -1) = 2/6 = 1/3 \n",
    "##### P(X4 = 1 | Y = -1) = 1/6 \n",
    "##### P(X5 = 1 | Y = -1) = 4/6 = 2/3"
   ]
  },
  {
   "cell_type": "markdown",
   "metadata": {},
   "source": [
    "### Problem 3 Part 2:"
   ]
  },
  {
   "cell_type": "markdown",
   "metadata": {},
   "source": [
    "##### P(00000,Y = 1) = P(Y = 1) [P(X1 = 0 | Y = 1) P(X2 = 0 | Y = 1) P(X3 = 0 | Y = 1) P(X4 = 0 | Y = 1) P(X5 = 0 | Y =\n",
    "##### 1)] = (4/10) (1/4) (4/4) (1/4) (2/4) (3/4) = 0.009375\n",
    "##### P(00000,Y = -1) = P(Y = -1) P(X1 = 0 | Y = -1) P(X2 = 0 | Y = -1) P(X3 = 0 | Y = -1) P(X4 = 0 | Y = -1) P(X5 = 0 |\n",
    "##### Y = -1) = (6/10) (3/6) (1/6) (2/6) (1/6) (4/6) = 0.00185\n",
    "##### yhat = 1 which means class y = 1 will be pridicted since p(y = 1, X = 00000) = 0.009375 is bigger. This means\n",
    "##### email must be \"read\".\n",
    "##### P(11010,Y = 1) = P(Y = 1) P(X1 = 1 | Y = 1) P(X2 = 1 | Y = 1) P(X3 = 1 | Y = 1) P(X4 = 1 | Y = 1) P(X5 = 1 | Y =\n",
    "##### 1) = (4/10) (3/4) (0/4) (3/4) (2/4) (1/4) = 0\n",
    "##### P(11010,Y = -1) = P(Y = -1) P(X1 = 1 | Y = -1) P(X2 = 1 | Y = -1) P(X3 = 1 | Y = -1) P(X4 = 1 | Y = -1) P(X5 = 1 |\n",
    "##### Y = -1) = (6/10) (3/6) (5/6) (2/6) (5/6) (4/6) = 0.0463\n",
    "##### yhat = -1 which means class y = -1 will be pridicted since p(y = -1, X = 11010) = 0.0463 is bigger. This means\n",
    "##### email will be \"discarded\"."
   ]
  },
  {
   "cell_type": "markdown",
   "metadata": {},
   "source": [
    "### Problem 3 - Part 3:"
   ]
  },
  {
   "cell_type": "markdown",
   "metadata": {},
   "source": [
    "##### P(Y=1 | X = 11010) = P(X = 11010 | Y = 1) P(Y = 1) / P(Y = 1) P(X = 11010 | Y = 1) + P(X = 11010 | Y = -1) P(Y =\n",
    "##### -1) = 0\n",
    "##### P(Y=1 | X = 00000) = P(X = 00000 | Y = 1) P(Y = 1) / P(Y = 1) P(X = 00000 | Y = 1) + P(X = 00000 | Y = -1) P(Y\n",
    "##### = -1) = 0.8351"
   ]
  },
  {
   "cell_type": "markdown",
   "metadata": {},
   "source": [
    "### Problem 3 - Part 4:"
   ]
  },
  {
   "cell_type": "markdown",
   "metadata": {},
   "source": [
    "##### Joint Bayes classifier takes more time which in this case we will have 33 parameters. Using joint Bayas classifier\n",
    "##### makes the computation more complex. So when features are independent, it is better to use naïve Bayes\n",
    "##### classifier which in this case will be 11 parameters because we have fewer parameters and it is easier to do\n",
    "##### probabilities."
   ]
  },
  {
   "cell_type": "markdown",
   "metadata": {},
   "source": [
    "### Problem 3 - Part 5:"
   ]
  },
  {
   "cell_type": "markdown",
   "metadata": {},
   "source": [
    "##### In this case, because our parameters are independent we do not need to retain our classifier. In our case, we\n",
    "##### have nine parameters because we have four features. We just won't use X1 probability which means we don't\n",
    "##### need to use P(X1 = 1 | Y = 1) and probability of rest will not change so we do not need to retain."
   ]
  },
  {
   "cell_type": "markdown",
   "metadata": {},
   "source": [
    "# Problem 4:\n",
    "##### For this homework the notes from lecture and discussion helped me a lot and I also followed up with piazza whenever I needed help."
   ]
  }
 ],
 "metadata": {
  "kernelspec": {
   "display_name": "Python 3",
   "language": "python",
   "name": "python3"
  },
  "language_info": {
   "codemirror_mode": {
    "name": "ipython",
    "version": 3
   },
   "file_extension": ".py",
   "mimetype": "text/x-python",
   "name": "python",
   "nbconvert_exporter": "python",
   "pygments_lexer": "ipython3",
   "version": "3.7.4"
  }
 },
 "nbformat": 4,
 "nbformat_minor": 4
}
